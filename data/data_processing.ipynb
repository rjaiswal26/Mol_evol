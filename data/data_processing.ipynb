{
 "cells": [
  {
   "cell_type": "code",
   "execution_count": 5,
   "id": "b98db852",
   "metadata": {},
   "outputs": [],
   "source": [
    "# primate list, including 26 taxa\n",
    "primate = 'hg38,panTro5,panPan2,gorGor5,ponAbe2,nomLeu3,rheMac8,macFas5,macNem1,papAnu3,manLeu1,cerAty1,chlSab2,nasLar1,rhiRox1,rhiBie1,colAng1,HLpilTep1,calJac3,aotNan1,saiBol1,cebCap1,tarSyr2,otoGar3,micMur3,proCoq1'.split(',')\n",
    "#primate = 'hg38,panTro5,panPan2,gorGor5,ponAbe2,nomLeu3,rheMac8,macFas5,macNem1,papAnu3,manLeu1,cerAty1,chlSab2,nasLar1,rhiRox1,rhiBie1,colAng1,HLpilTep1,calJac3,aotNan1,saiBol1,cebCap1,tarSyr2,otoGar3'.split(',')\n",
    "#outgrouper = 'galVar1'\n",
    "#species_list = primate + [outgrouper]\n",
    "species_list = primate"
   ]
  },
  {
   "cell_type": "markdown",
   "id": "c65c24ec",
   "metadata": {},
   "source": [
    "# extract subtree from the whole phylogeny\n",
    "if necessary."
   ]
  },
  {
   "cell_type": "code",
   "execution_count": 148,
   "id": "dd4af8a0",
   "metadata": {
    "scrolled": true
   },
   "outputs": [],
   "source": [
    "from ete3 import Tree\n",
    "t = Tree('./tree_119mammal.nwk')\n",
    "t.prune(species_list, preserve_branch_length=True)"
   ]
  },
  {
   "cell_type": "code",
   "execution_count": 150,
   "id": "998abbe8",
   "metadata": {},
   "outputs": [
    {
     "name": "stdout",
     "output_type": "stream",
     "text": [
      "((((((((hg38:0.00620701,(panTro5:0.00195,panPan2:0.00215532):0.00426341):0.00204322,gorGor5:0.00838149):0.00907487,ponAbe2:0.0180992):0.00314386,nomLeu3:0.0211089):0.0106897,(((((rheMac8:0.00242804,macFas5:0.0017371):0.00121555,macNem1:0.00345421):0.004258,(papAnu3:0.00633881,(manLeu1:0.00545124,cerAty1:0.00545395):0.00132313):0.00134214):0.00373754,chlSab2:0.0121756):0.00539037,((nasLar1:0.00706942,(rhiRox1:0.00194132,rhiBie1:0.00215728):0.0042924):0.00567791,(colAng1:0.00977929,HLpilTep1:0.00987829):0.00265928):0.00619761):0.0210316):0.019854,((calJac3:0.0338501,aotNan1:0.0224995):0.00161469,(saiBol1:0.029194,cebCap1:0.025009):0.00380271):0.0369747):0.0590031,tarSyr2:0.140301):0.0111117,otoGar3:0.161263);\n"
     ]
    }
   ],
   "source": [
    "print( t.write(format=1) )"
   ]
  },
  {
   "cell_type": "markdown",
   "id": "9fa5fedc",
   "metadata": {},
   "source": [
    "# extract alignment from the chunk based on taxa names\n",
    "\n",
    "- merge blocks in .maf file if necessary.\n",
    "- convert .maf file into .phy format\n",
    "- filter out alignment based on taxa names if necessary."
   ]
  },
  {
   "cell_type": "code",
   "execution_count": 118,
   "id": "b6211cb0",
   "metadata": {},
   "outputs": [],
   "source": [
    "\n",
    "def merge_maf_block(filepath):\n",
    "    name2seq = {}\n",
    "    with open (filepath) as f:\n",
    "        for line in f.readlines():\n",
    "            if line.startswith('s'):\n",
    "                line = line.split()\n",
    "                name = line[1].split('.')[0]\n",
    "                try:\n",
    "                    name2seq[ name ] += line[-1].upper()\n",
    "                except KeyError:\n",
    "                    name2seq.update({name:''})\n",
    "    return name2seq"
   ]
  },
  {
   "cell_type": "code",
   "execution_count": 121,
   "id": "c3f82342",
   "metadata": {},
   "outputs": [],
   "source": [
    "# extract from .gz in ./data\n",
    "maf_seq = merge_maf_block('1mb_primate.maf')"
   ]
  },
  {
   "cell_type": "code",
   "execution_count": 139,
   "id": "918154f7",
   "metadata": {
    "scrolled": false
   },
   "outputs": [
    {
     "data": {
      "text/plain": [
       "974823"
      ]
     },
     "execution_count": 139,
     "metadata": {},
     "output_type": "execute_result"
    }
   ],
   "source": [
    "len( maf_seq['hg38'] )"
   ]
  },
  {
   "cell_type": "code",
   "execution_count": 140,
   "id": "816db562",
   "metadata": {},
   "outputs": [],
   "source": [
    "# write as phylip format\n",
    "outpath = './primate/primate2.phy'\n",
    "nseq, nsite = len(maf_seq), 974823\n",
    "with open (outpath, 'w') as f:\n",
    "    f.write(' %s %s\\n' %(nseq, nsite) )\n",
    "    for name, seq in maf_seq.items():\n",
    "        nspace = 15 - len(name)\n",
    "        f.write('%s'%name + ' '*nspace + '%s'%seq + '\\n')"
   ]
  },
  {
   "cell_type": "markdown",
   "id": "b9d3a4dc",
   "metadata": {},
   "source": [
    "## .maf into .phy"
   ]
  },
  {
   "cell_type": "code",
   "execution_count": 90,
   "id": "be236dfd",
   "metadata": {},
   "outputs": [],
   "source": [
    "# extract a subset of alignment \n",
    "#alignmentpath = \"./alignment/120ways_1mb.maf\"\n",
    "alignmentpath = \"./1msite/1mb_primate.maf\"\n",
    "from Bio import AlignIO\n",
    "for multiple_alignment in AlignIO.parse(alignmentpath, \"maf\"):\n",
    "    pass"
   ]
  },
  {
   "cell_type": "code",
   "execution_count": 105,
   "id": "08c213e4",
   "metadata": {},
   "outputs": [
    {
     "data": {
      "text/plain": [
       "26"
      ]
     },
     "execution_count": 105,
     "metadata": {},
     "output_type": "execute_result"
    }
   ],
   "source": [
    "len(multiple_alignment)"
   ]
  },
  {
   "cell_type": "code",
   "execution_count": 101,
   "id": "b713cb4e",
   "metadata": {},
   "outputs": [
    {
     "data": {
      "text/plain": [
       "SeqRecord(seq=Seq('ACAGCA--------------------TAAGCAGAG-CC--C-GTCT--------...AGG'), id='hg38.chr1', name='hg38.chr1', description='', dbxrefs=[])"
      ]
     },
     "execution_count": 101,
     "metadata": {},
     "output_type": "execute_result"
    }
   ],
   "source": [
    "multiple_alignment[0]"
   ]
  },
  {
   "cell_type": "code",
   "execution_count": 75,
   "id": "0dd65104",
   "metadata": {},
   "outputs": [],
   "source": [
    "primate_record= [x for x in multiple_alignment if x.id.split('.')[0] in species_list]\n",
    "primate_alignment = AlignIO.MultipleSeqAlignment(primate_record)"
   ]
  },
  {
   "cell_type": "code",
   "execution_count": 76,
   "id": "104a525f",
   "metadata": {},
   "outputs": [],
   "source": [
    "for rec in primate_alignment:\n",
    "    rec.name = rec.id = rec.id.split('.')[0] # remove extension"
   ]
  },
  {
   "cell_type": "code",
   "execution_count": 89,
   "id": "19ab7fe1",
   "metadata": {},
   "outputs": [
    {
     "data": {
      "text/plain": [
       "SeqRecord(seq=Seq('ACAGCA--------------------TAAGCAGAG-CC--C-GTCT--------...AGG'), id='hg38', name='hg38', description='', dbxrefs=[])"
      ]
     },
     "execution_count": 89,
     "metadata": {},
     "output_type": "execute_result"
    }
   ],
   "source": [
    "dir( multiple_alignment[0] )\n",
    "multiple_alignment[0]"
   ]
  },
  {
   "cell_type": "code",
   "execution_count": 104,
   "id": "552106ba",
   "metadata": {},
   "outputs": [
    {
     "data": {
      "text/plain": [
       "1"
      ]
     },
     "execution_count": 104,
     "metadata": {},
     "output_type": "execute_result"
    }
   ],
   "source": [
    "AlignIO.write(primate_alignment, \"./primate/primate2.phy\", \"phylip\")"
   ]
  },
  {
   "cell_type": "markdown",
   "id": "34ffdabe",
   "metadata": {},
   "source": [
    " # tree exploration"
   ]
  },
  {
   "cell_type": "code",
   "execution_count": null,
   "id": "65931e9f",
   "metadata": {},
   "outputs": [],
   "source": [
    "from Bio.Phylo.TreeConstruction import DistanceCalculator\n",
    "from Bio.Phylo import read\n",
    "from io import StringIO\n",
    "\n",
    "tree = read(StringIO(t.write(format=1)), 'newick')\n",
    "\n",
    "calculator = DistanceCalculator('identity')\n",
    "dist = calculator.get_distance(tree)"
   ]
  }
 ],
 "metadata": {
  "kernelspec": {
   "display_name": "Python 3 (ipykernel)",
   "language": "python",
   "name": "python3"
  },
  "language_info": {
   "codemirror_mode": {
    "name": "ipython",
    "version": 3
   },
   "file_extension": ".py",
   "mimetype": "text/x-python",
   "name": "python",
   "nbconvert_exporter": "python",
   "pygments_lexer": "ipython3",
   "version": "3.10.9"
  },
  "toc": {
   "base_numbering": 1,
   "nav_menu": {},
   "number_sections": true,
   "sideBar": true,
   "skip_h1_title": false,
   "title_cell": "Table of Contents",
   "title_sidebar": "Contents",
   "toc_cell": false,
   "toc_position": {},
   "toc_section_display": true,
   "toc_window_display": false
  }
 },
 "nbformat": 4,
 "nbformat_minor": 5
}
